{
 "cells": [
  {
   "cell_type": "code",
   "execution_count": null,
   "metadata": {},
   "outputs": [],
   "source": [
    "from IPython.display import display, HTML\n",
    "\n",
    "import xarray\n",
    "from geocoreg import registrators, visualization as vz, xr_registration"
   ]
  },
  {
   "cell_type": "code",
   "execution_count": null,
   "metadata": {},
   "outputs": [],
   "source": [
    "ma = xarray.open_zarr('./test_data.zarr')\n",
    "ma = ma['test_data']\n",
    "ma"
   ]
  },
  {
   "cell_type": "code",
   "execution_count": null,
   "metadata": {},
   "outputs": [],
   "source": [
    "dst_img = ma.isel(time=0)"
   ]
  },
  {
   "cell_type": "code",
   "execution_count": null,
   "metadata": {},
   "outputs": [],
   "source": [
    "ma = ma.load()"
   ]
  },
  {
   "cell_type": "code",
   "execution_count": null,
   "metadata": {},
   "outputs": [],
   "source": [
    "# registrator = registrators.PCCRegistrator()\n",
    "# registrator = registrators.KoniaRegistrator()\n",
    "registrator='pcc'\n",
    "ts_registrated = xr_registration.coregistrate_timeseries(ma, dst_img, registrator=registrator, registration_bands=['red',])"
   ]
  },
  {
   "cell_type": "code",
   "execution_count": null,
   "metadata": {},
   "outputs": [],
   "source": [
    "vz.export_timeseries_animation(ma.sel(band=['red','green','blue']), 'time', filename='original_ts.gif', )\n",
    "vz.export_timeseries_animation(ts_registrated.sel(band=['red','green','blue']), 'time', filename='registrated_ts.gif', )"
   ]
  },
  {
   "cell_type": "code",
   "execution_count": null,
   "metadata": {},
   "outputs": [],
   "source": [
    "html_code = \"\"\"\n",
    "<div style=\"display: flex; justify-content: space-around; align-items: center;\">\n",
    "    <div style=\"text-align: center;\">\n",
    "        <h3>Before registration</h3>\n",
    "        <img src=\"original_ts.gif\" width=\"500\">\n",
    "    </div>\n",
    "    <div style=\"text-align: center;\">\n",
    "        <h3>After registration</h3>\n",
    "        <img src=\"registrated_ts.gif\" width=\"500\">\n",
    "    </div>\n",
    "</div>\n",
    "\"\"\"\n",
    "\n",
    "# Display the HTML\n",
    "display(HTML(html_code))"
   ]
  },
  {
   "cell_type": "code",
   "execution_count": null,
   "metadata": {},
   "outputs": [],
   "source": []
  },
  {
   "cell_type": "code",
   "execution_count": null,
   "metadata": {},
   "outputs": [],
   "source": []
  }
 ],
 "metadata": {
  "kernelspec": {
   "display_name": "samgeo1",
   "language": "python",
   "name": "python3"
  },
  "language_info": {
   "codemirror_mode": {
    "name": "ipython",
    "version": 3
   },
   "file_extension": ".py",
   "mimetype": "text/x-python",
   "name": "python",
   "nbconvert_exporter": "python",
   "pygments_lexer": "ipython3",
   "version": "3.10.14"
  },
  "orig_nbformat": 4
 },
 "nbformat": 4,
 "nbformat_minor": 2
}
