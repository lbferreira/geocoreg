{
 "cells": [
  {
   "cell_type": "code",
   "execution_count": null,
   "metadata": {},
   "outputs": [],
   "source": [
    "from IPython.display import display, HTML\n",
    "import xarray\n",
    "import rioxarray\n",
    "from geocoreg import visualization as vz, xr_registration"
   ]
  },
  {
   "cell_type": "code",
   "execution_count": null,
   "metadata": {},
   "outputs": [],
   "source": [
    "# Load sample data\n",
    "da = rioxarray.open_rasterio(\"naip_example.tif\")\n",
    "da = da.assign_coords(band=['red', 'green', 'blue'])\n",
    "# Simulate a time series with some shifts\n",
    "shifted_series = xarray.concat(\n",
    "    [\n",
    "        da.assign_coords(time=0),\n",
    "        da.shift(x=10, y=10).assign_coords(time=1),\n",
    "        da.shift(x=-5, y=8).assign_coords(time=2),\n",
    "    ],\n",
    "    dim=\"time\",\n",
    ")\n",
    "# Export a gif with the original series\n",
    "vz.export_animation(shifted_series, 'time', file_name='original_series.gif')"
   ]
  },
  {
   "cell_type": "code",
   "execution_count": null,
   "metadata": {},
   "outputs": [],
   "source": [
    "# Define the reference image as the first image of the time series\n",
    "dst_img = shifted_series.isel(time=0)\n",
    "# Coregistrate the time series with the reference image\n",
    "ts_registrated = xr_registration.coregistrate(shifted_series, dst_img, registrator='pcc', registration_band='red')\n",
    "# Export a gif with the registrated series\n",
    "vz.export_animation(ts_registrated, 'time', file_name='registrated_series.gif')"
   ]
  },
  {
   "cell_type": "code",
   "execution_count": 7,
   "metadata": {},
   "outputs": [
    {
     "data": {
      "text/html": [
       "\n",
       "<div style=\"display: flex; justify-content: space-around; align-items: center;\">\n",
       "    <div style=\"text-align: center;\">\n",
       "        <h3>Before registration</h3>\n",
       "        <img src=\"original_series.gif\" width=\"500\">\n",
       "    </div>\n",
       "    <div style=\"text-align: center;\">\n",
       "        <h3>After registration</h3>\n",
       "        <img src=\"registrated_series.gif\" width=\"500\">\n",
       "    </div>\n",
       "</div>\n"
      ],
      "text/plain": [
       "<IPython.core.display.HTML object>"
      ]
     },
     "metadata": {},
     "output_type": "display_data"
    }
   ],
   "source": [
    "# Once the gifs are created, we can display them in a HTML format\n",
    "# Note that after displaying the first time, the gifs look to be cached\n",
    "# and the changes are not displayed, unless you rename the images.\n",
    "original = 'original_series.gif'\n",
    "registrated = 'registrated_series.gif'\n",
    "\n",
    "html_code = f\"\"\"\n",
    "<div style=\"display: flex; justify-content: space-around; align-items: center;\">\n",
    "    <div style=\"text-align: center;\">\n",
    "        <h3>Before registration</h3>\n",
    "        <img src=\"{original}\" width=\"500\">\n",
    "    </div>\n",
    "    <div style=\"text-align: center;\">\n",
    "        <h3>After registration</h3>\n",
    "        <img src=\"{registrated}\" width=\"500\">\n",
    "    </div>\n",
    "</div>\n",
    "\"\"\"\n",
    "\n",
    "# Display the HTML\n",
    "display(HTML(html_code))"
   ]
  },
  {
   "cell_type": "code",
   "execution_count": null,
   "metadata": {},
   "outputs": [],
   "source": []
  }
 ],
 "metadata": {
  "kernelspec": {
   "display_name": "fieldsegsr",
   "language": "python",
   "name": "python3"
  },
  "language_info": {
   "codemirror_mode": {
    "name": "ipython",
    "version": 3
   },
   "file_extension": ".py",
   "mimetype": "text/x-python",
   "name": "python",
   "nbconvert_exporter": "python",
   "pygments_lexer": "ipython3",
   "version": "3.10.14"
  },
  "orig_nbformat": 4
 },
 "nbformat": 4,
 "nbformat_minor": 2
}
